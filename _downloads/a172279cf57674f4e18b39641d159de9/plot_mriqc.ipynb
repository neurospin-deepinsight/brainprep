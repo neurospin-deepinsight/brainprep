{
  "cells": [
    {
      "cell_type": "code",
      "execution_count": null,
      "metadata": {
        "collapsed": false
      },
      "outputs": [],
      "source": [
        "%matplotlib inline"
      ]
    },
    {
      "cell_type": "markdown",
      "metadata": {},
      "source": [
        "\n# mriqc quality control use case\n\nCredit: A Grigis\n\nExample on how to run the mriqc quality control using the brainprep\nSingularity container.\n"
      ]
    },
    {
      "cell_type": "code",
      "execution_count": null,
      "metadata": {
        "collapsed": false
      },
      "outputs": [],
      "source": [
        "# sphinx_gallery_thumbnail_path = '_static/carousel/mriqc.png'\n\nimport os\nimport subprocess\nfrom brainrise.datasets import MRIToyDataset"
      ]
    },
    {
      "cell_type": "markdown",
      "metadata": {},
      "source": [
        "Please tune these parameters.\n\n"
      ]
    },
    {
      "cell_type": "code",
      "execution_count": null,
      "metadata": {
        "collapsed": false
      },
      "outputs": [],
      "source": [
        "DATADIR = \"/tmp/brainprep-data\"\nOUTDIR = \"/tmp/brainprep-out\"\nWORKDIR = \"/tmp/brainprep-out/work\"\nHOMEDIR = \"/tmp/brainprep-home\"\nSCRIPT = \"mriqc\"\nSIMG = \"/volatile/nsap/brainprep/mriqc/brainprep-mriqc-latest.simg\"\n\nfor path in (DATADIR, OUTDIR, HOMEDIR, WORKDIR):\n    if not os.path.isdir(path):\n        os.mkdir(path)\ndataset = MRIToyDataset(root=DATADIR)\ncmd = [\"singularity\", \"run\", \"--bind\", \"{0}:/data\".format(DATADIR),\n       \"--bind\", \"{0}:/out\".format(OUTDIR), \"--home\", HOMEDIR, \"--cleanenv\",\n       SIMG,\n       \"brainprep\", SCRIPT,\n       \"/data\",\n       \"sub-unknown\",\n       \"--outdir\", \"/out\",\n       \"--workdir\", \"/out/work\"]"
      ]
    },
    {
      "cell_type": "markdown",
      "metadata": {},
      "source": [
        "You can now execute this command.\n\n"
      ]
    },
    {
      "cell_type": "code",
      "execution_count": null,
      "metadata": {
        "collapsed": false
      },
      "outputs": [],
      "source": [
        "print(\" \".join(cmd))"
      ]
    }
  ],
  "metadata": {
    "kernelspec": {
      "display_name": "Python 3",
      "language": "python",
      "name": "python3"
    },
    "language_info": {
      "codemirror_mode": {
        "name": "ipython",
        "version": 3
      },
      "file_extension": ".py",
      "mimetype": "text/x-python",
      "name": "python",
      "nbconvert_exporter": "python",
      "pygments_lexer": "ipython3",
      "version": "3.8.18"
    }
  },
  "nbformat": 4,
  "nbformat_minor": 0
}