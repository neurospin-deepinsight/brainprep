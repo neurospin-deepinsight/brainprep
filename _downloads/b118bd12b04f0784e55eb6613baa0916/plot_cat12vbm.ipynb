{
  "cells": [
    {
      "cell_type": "code",
      "execution_count": null,
      "metadata": {
        "collapsed": false
      },
      "outputs": [],
      "source": [
        "%matplotlib inline"
      ]
    },
    {
      "cell_type": "markdown",
      "metadata": {},
      "source": [
        "\n# CAT12 VBM pre-processing use case\n\nCredit: A Grigis\n\nExample on how to run the CAT12 VBM pre-processing using the brainprep\nSingularity container.\n"
      ]
    },
    {
      "cell_type": "code",
      "execution_count": null,
      "metadata": {
        "collapsed": false
      },
      "outputs": [],
      "source": [
        "# sphinx_gallery_thumbnail_path = '_static/carousel/cat12.png'\n\nimport os\nimport subprocess\nfrom brainrise.datasets import MRIToyDataset"
      ]
    },
    {
      "cell_type": "markdown",
      "metadata": {},
      "source": [
        "Please tune these parameters.\n\n"
      ]
    },
    {
      "cell_type": "code",
      "execution_count": null,
      "metadata": {
        "collapsed": false
      },
      "outputs": [],
      "source": [
        "DATADIR = \"/tmp/brainprep-data\"\nOUTDIR = \"/tmp/brainprep-out\"\nHOMEDIR = \"/tmp/brainprep-home\"\nSCRIPT = \"cat12vbm\"\nSIMG = \"/volatile/nsap/brainprep/anat/brainprep-anat-latest.simg\"\n\nfor path in (DATADIR, OUTDIR, HOMEDIR):\n    if not os.path.isdir(path):\n        os.mkdir(path)\ndataset = MRIToyDataset(root=DATADIR)\nt1w_file = os.path.join(DATADIR, os.path.basename(MRIToyDataset.t1w_url))\nmask_file = os.path.join(DATADIR, os.path.basename(MRIToyDataset.mask_url))\ncmd = [\"singularity\", \"run\", \"--bind\", \"{0}:/data\".format(DATADIR),\n       \"--bind\", \"{0}:/out\".format(OUTDIR), \"--home\", HOMEDIR, \"--cleanenv\",\n       SIMG,\n       \"brainprep\", SCRIPT,\n       t1w_file.replace(DATADIR, \"/data\"),\n       \"/out\"]"
      ]
    },
    {
      "cell_type": "markdown",
      "metadata": {},
      "source": [
        "You can now execute this command.\n\n"
      ]
    },
    {
      "cell_type": "code",
      "execution_count": null,
      "metadata": {
        "collapsed": false
      },
      "outputs": [],
      "source": [
        "print(\" \".join(cmd))"
      ]
    }
  ],
  "metadata": {
    "kernelspec": {
      "display_name": "Python 3",
      "language": "python",
      "name": "python3"
    },
    "language_info": {
      "codemirror_mode": {
        "name": "ipython",
        "version": 3
      },
      "file_extension": ".py",
      "mimetype": "text/x-python",
      "name": "python",
      "nbconvert_exporter": "python",
      "pygments_lexer": "ipython3",
      "version": "3.8.18"
    }
  },
  "nbformat": 4,
  "nbformat_minor": 0
}